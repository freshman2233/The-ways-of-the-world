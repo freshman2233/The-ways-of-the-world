{
 "cells": [
  {
   "cell_type": "markdown",
   "metadata": {},
   "source": [
    "人情世故"
   ]
  },
  {
   "cell_type": "markdown",
   "metadata": {},
   "source": [
    "1.数据集调整"
   ]
  },
  {
   "cell_type": "code",
   "execution_count": 4,
   "metadata": {},
   "outputs": [
    {
     "name": "stdout",
     "output_type": "stream",
     "text": [
      "Converted data has been saved to D:\\Document\\GitHub\\The-ways-of-the-world\\dataset\\dataset_alpaca_format.json\n"
     ]
    },
    {
     "name": "stderr",
     "output_type": "stream",
     "text": [
      "<>:4: SyntaxWarning: invalid escape sequence '\\D'\n",
      "<>:5: SyntaxWarning: invalid escape sequence '\\D'\n",
      "<>:4: SyntaxWarning: invalid escape sequence '\\D'\n",
      "<>:5: SyntaxWarning: invalid escape sequence '\\D'\n",
      "C:\\Users\\lenovo\\AppData\\Local\\Temp\\ipykernel_31804\\2675627421.py:4: SyntaxWarning: invalid escape sequence '\\D'\n",
      "  input_file_path = 'D:\\Document\\GitHub\\The-ways-of-the-world\\dataset\\dataset.json'\n",
      "C:\\Users\\lenovo\\AppData\\Local\\Temp\\ipykernel_31804\\2675627421.py:5: SyntaxWarning: invalid escape sequence '\\D'\n",
      "  output_file_path = 'D:\\Document\\GitHub\\The-ways-of-the-world\\dataset\\dataset_alpaca_format.json'\n"
     ]
    }
   ],
   "source": [
    "import json\n",
    "\n",
    "# Load the input JSON file\n",
    "input_file_path = 'D:\\Document\\GitHub\\The-ways-of-the-world\\dataset\\dataset.json'\n",
    "output_file_path = 'D:\\Document\\GitHub\\The-ways-of-the-world\\dataset\\dataset_alpaca_format.json'\n",
    "\n",
    "with open(input_file_path, 'r', encoding='utf-8') as infile:\n",
    "    data = json.load(infile)\n",
    "\n",
    "# Transform the JSON data to Alpaca format\n",
    "alpaca_data = []\n",
    "\n",
    "for conversation in data:\n",
    "    for conv_entry in conversation.get('conversation', []):\n",
    "        alpaca_data.append({\n",
    "            \"instruction\": conv_entry.get(\"system\", \"\"),\n",
    "            \"input\": conv_entry.get(\"input\", \"\"),\n",
    "            \"output\": conv_entry.get(\"output\", \"\"),\n",
    "        })\n",
    "\n",
    "# Save the transformed data to the output file\n",
    "with open(output_file_path, 'w', encoding='utf-8') as outfile:\n",
    "    json.dump(alpaca_data, outfile, ensure_ascii=False, indent=4)\n",
    "\n",
    "print(f\"Converted data has been saved to {output_file_path}\")\n"
   ]
  }
 ],
 "metadata": {
  "kernelspec": {
   "display_name": "Python 3",
   "language": "python",
   "name": "python3"
  },
  "language_info": {
   "codemirror_mode": {
    "name": "ipython",
    "version": 3
   },
   "file_extension": ".py",
   "mimetype": "text/x-python",
   "name": "python",
   "nbconvert_exporter": "python",
   "pygments_lexer": "ipython3",
   "version": "3.12.4"
  }
 },
 "nbformat": 4,
 "nbformat_minor": 2
}
